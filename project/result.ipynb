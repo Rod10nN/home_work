{
 "cells": [
  {
   "cell_type": "markdown",
   "metadata": {},
   "source": [
    "Компьютер загадывает целое число от 1 до 100. Программа находит число меньше чем за 20 попыток"
   ]
  },
  {
   "cell_type": "code",
   "execution_count": 1,
   "metadata": {},
   "outputs": [
    {
     "name": "stdout",
     "output_type": "stream",
     "text": [
      "48\n",
      "50\n",
      "25\n",
      "38\n",
      "44\n",
      "47\n",
      "49\n",
      "48\n",
      "7\n"
     ]
    }
   ],
   "source": [
    "from resh import random_predict"
   ]
  }
 ],
 "metadata": {
  "kernelspec": {
   "display_name": "Python 3.9.10 64-bit",
   "language": "python",
   "name": "python3"
  },
  "language_info": {
   "codemirror_mode": {
    "name": "ipython",
    "version": 3
   },
   "file_extension": ".py",
   "mimetype": "text/x-python",
   "name": "python",
   "nbconvert_exporter": "python",
   "pygments_lexer": "ipython3",
   "version": "3.9.10"
  },
  "orig_nbformat": 4,
  "vscode": {
   "interpreter": {
    "hash": "28cdfddec66d37ae3cb5c9a0dc011c2eb517b9eb37b54f5be857614494435ad3"
   }
  }
 },
 "nbformat": 4,
 "nbformat_minor": 2
}
